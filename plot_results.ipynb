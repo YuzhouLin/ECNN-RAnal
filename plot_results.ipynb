{
  "cells": [
    {
      "cell_type": "markdown",
      "metadata": {
        "colab_type": "text",
        "id": "view-in-github"
      },
      "source": [
        "<a href=\"https://colab.research.google.com/github/YuzhouLin/current_proj/blob/feature-20210203-devtest/plot_results.ipynb\" target=\"_parent\"><img src=\"https://colab.research.google.com/assets/colab-badge.svg\" alt=\"Open In Colab\"/></a>"
      ]
    },
    {
      "cell_type": "code",
      "execution_count": 1,
      "metadata": {
        "id": "do-kZnPiSjqc"
      },
      "outputs": [],
      "source": [
        "import numpy as np\n",
        "import torch\n",
        "import src.utils as utils\n",
        "import src.helps_pre as pre\n",
        "import matplotlib.pyplot as plt\n",
        "from sklearn.metrics import confusion_matrix\n",
        "import seaborn as sns\n",
        "import optuna"
      ]
    },
    {
      "cell_type": "code",
      "execution_count": 10,
      "metadata": {
        "id": "XpVAUWyp4DC0"
      },
      "outputs": [],
      "source": [
        "EDL_USED = 0\n",
        "# '0: no edl; 1: edl without kl; 2: edl with kl (annealing); \n",
        "# 3: edl with kl (trade-off)'\n",
        "DEVICE = pre.get_device()\n",
        "DATA_PATH = '/data/NinaproDB5/raw/'\n",
        "\n",
        "\n",
        "def test(params):\n",
        "    #  load_data\n",
        "    device = torch.device('cpu')\n",
        "    test_trial = params['outer_f']\n",
        "    sb_n = params['sb_n']\n",
        "\n",
        "    # Load testing Data\n",
        "    inputs, targets = pre.load_data_test_cnn(\n",
        "        DATA_PATH, sb_n, test_trial)\n",
        "\n",
        "    # Load trained model\n",
        "    model = utils.Model()\n",
        "    model.load_state_dict(\n",
        "        torch.load(params['saved_model'], map_location=device))\n",
        "    model.eval()\n",
        "\n",
        "    # Get Results\n",
        "    outputs = model(inputs.to(device)).detach()\n",
        "\n",
        "    # Load the Testing Engine\n",
        "    eng = utils.EngineTest(outputs, targets)\n",
        "    results = eng.get_output_results(params['acti_fun'])\n",
        "    preds = results.argmax(axis=1)\n",
        "    return targets, preds\n",
        "\n",
        "\n"
      ]
    },
    {
      "cell_type": "code",
      "execution_count": 23,
      "metadata": {
        "colab": {
          "base_uri": "https://localhost:8080/",
          "height": 542
        },
        "id": "0K5KpP3g7802",
        "outputId": "eda8e4d9-c97b-4500-a3e3-f8fc0c81cc17"
      },
      "outputs": [
        {
          "name": "stdout",
          "output_type": "stream",
          "text": [
            "Number Parameters:  1191596\n",
            "Testing done. sb1-t1\n",
            "Number Parameters:  1191596\n",
            "Testing done. sb2-t1\n",
            "Number Parameters:  1191596\n",
            "Testing done. sb3-t1\n",
            "Number Parameters:  1191596\n",
            "Testing done. sb4-t1\n",
            "Number Parameters:  1191596\n",
            "Testing done. sb5-t1\n",
            "Number Parameters:  1191596\n",
            "Testing done. sb6-t1\n",
            "Number Parameters:  1191596\n",
            "Testing done. sb7-t1\n",
            "Number Parameters:  1191596\n",
            "Testing done. sb8-t1\n",
            "Number Parameters:  1191596\n",
            "Testing done. sb9-t1\n",
            "Number Parameters:  1191596\n",
            "Testing done. sb10-t1\n",
            "Number Parameters:  1191596\n",
            "Testing done. sb1-t2\n",
            "Number Parameters:  1191596\n",
            "Testing done. sb2-t2\n",
            "Number Parameters:  1191596\n",
            "Testing done. sb3-t2\n",
            "Number Parameters:  1191596\n",
            "Testing done. sb4-t2\n",
            "Number Parameters:  1191596\n",
            "Testing done. sb5-t2\n",
            "Number Parameters:  1191596\n",
            "Testing done. sb6-t2\n",
            "Number Parameters:  1191596\n",
            "Testing done. sb7-t2\n",
            "Number Parameters:  1191596\n",
            "Testing done. sb8-t2\n",
            "Number Parameters:  1191596\n",
            "Testing done. sb9-t2\n",
            "Number Parameters:  1191596\n"
          ]
        }
      ],
      "source": [
        "CM_matrix = []\n",
        "for EDL_used in range(4):\n",
        "    params = {'edl_used': EDL_USED}\n",
        "\n",
        "    # Get the optimal activation function\n",
        "    if EDL_USED == 0:\n",
        "        params['acti_fun'] = 'softmax'\n",
        "    else:\n",
        "        # Get from hyperparameter study\n",
        "        core_path = f'study/ecnn{EDL_USED}/sb{sb_n}'\n",
        "        study_path = \"sqlite:///\" + core_path + f\"/t{test_trial}.db\"\n",
        "        loaded_study = optuna.load_study(\n",
        "            study_name=\"STUDY\", storage=study_path)\n",
        "        temp_best_trial = loaded_study.best_trial\n",
        "        params['acti_fun']  = temp_best_trial.params['evi_fun']\n",
        "    total_true = np.empty([0,0])\n",
        "    total_pred = np.empty([0,0])\n",
        "    for test_trial in range(1, 7):\n",
        "        params['outer_f'] = test_trial\n",
        "        for sb_n in range(1, 11):\n",
        "            params['sb_n'] = sb_n\n",
        "            model_name = f\"models/ecnn{EDL_USED}/sb{sb_n}_t{test_trial}.pt\"\n",
        "            params['saved_model'] = model_name\n",
        "            y_true, y_pred = test(params)\n",
        "            print(f'Testing done. sb{sb_n}-t{test_trial}')\n",
        "            #ConfusionMatrixDisplay.from_predictions(y_true, y_pred)\n",
        "            total_true = y_true if len(total_true) == 0 else np.append(total_true, y_true)\n",
        "            total_pred = y_pred if len(total_pred) == 0 else np.append(total_pred, y_pred)\n",
        "\n",
        "    CM_matrix.append(confusion_matrix(total_true, total_pred))\n",
        "#sns.heatmap(cm_matrix, annot=True)"
      ]
    },
    {
      "cell_type": "code",
      "execution_count": null,
      "metadata": {
        "colab": {
          "base_uri": "https://localhost:8080/",
          "height": 35
        },
        "id": "9bC2zxTJ9fxb",
        "outputId": "c99356a8-de7d-4e0f-ffc3-cffa248c4f37"
      },
      "outputs": [],
      "source": [
        "loaded_study = optuna.load_study(study_name=\"STUDY\", storage=\"sqlite:///study/ecnn/sb4/temp.db\")\n",
        "temp = optuna.importance.get_param_importances(loaded_study)\n",
        "trial = loaded_study.best_trial\n",
        "'''\n",
        "for key, value in trial.params.items():\n",
        "    print(\"    {}: {}\".format(key, value))\n",
        "'''"
      ]
    },
    {
      "cell_type": "code",
      "execution_count": 22,
      "metadata": {
        "colab": {
          "base_uri": "https://localhost:8080/"
        },
        "id": "mD7jwYBDK4MP",
        "outputId": "56d933ad-c6b5-40e2-f8f0-300f0b3eb992"
      },
      "outputs": [
        {
          "name": "stdout",
          "output_type": "stream",
          "text": [
            "0\n",
            "1\n",
            "2\n",
            "3\n"
          ]
        }
      ],
      "source": [
        "for a in range(4):\n",
        "    print(a)"
      ]
    },
    {
      "cell_type": "code",
      "execution_count": 19,
      "metadata": {
        "id": "QKuAtI-9FkFg"
      },
      "outputs": [],
      "source": [
        "a = []\n",
        "a.append(cm_matrix)\n",
        "a.append(cm_matrix)\n"
      ]
    },
    {
      "cell_type": "code",
      "execution_count": 21,
      "metadata": {},
      "outputs": [
        {
          "name": "stdout",
          "output_type": "stream",
          "text": [
            "[[ 61  20   9  84   8   0   2   5   0   0   0  73]\n",
            " [101 165   3  34   0   0   0   0   0   0   0   0]\n",
            " [ 32  28 260   9   0   4   7   1   0   0   0   7]\n",
            " [  5  13   0 280   0  10   2   0   0   0   0  14]\n",
            " [  0   2  22   8 251   2  41   1   0   0   0   0]\n",
            " [  0   1  13   0  22 160 104   4   0   0   0   0]\n",
            " [  0   1   0   0  53   8 316   1   0   0   0   0]\n",
            " [  0   4   0   0   2   1  72 264   0   0   0   2]\n",
            " [  0   0   0   0   0   0   0   8 179  18  24  21]\n",
            " [  8   3   5   0   0   0   1   0   2 167  29  28]\n",
            " [  3   0   0   0   0   0   0   0 138   0 121  20]\n",
            " [  0   0   0   0   0   0   0   0  39   0  26 198]]\n"
          ]
        }
      ],
      "source": [
        "print(a[1])"
      ]
    },
    {
      "cell_type": "code",
      "execution_count": null,
      "metadata": {
        "colab": {
          "base_uri": "https://localhost:8080/"
        },
        "id": "3GfFeYTeFwL4",
        "outputId": "17929be5-d032-4e3c-f753-1d680a09e32a"
      },
      "outputs": [],
      "source": [
        "hyperparams_ecnn = ['optimizer', 'lr', 'batch_size', 'KL', 'evi_fun']\n",
        "h_ecnn_i = {k:[] for k in hyperparams_ecnn}\n",
        "best_h_ecnn = {k:[] for k in hyperparams_ecnn}\n",
        "print(h_ecnn_i)\n",
        "\n",
        "hyperparams_cnn = ['optimizer', 'lr', 'batch_size']\n",
        "h_cnn_i = {k:[] for k in hyperparams_cnn}\n",
        "best_h_cnn = {k:[] for k in hyperparams_cnn}\n",
        "print(h_cnn_i)"
      ]
    },
    {
      "cell_type": "code",
      "execution_count": null,
      "metadata": {
        "id": "8SMfxmFjGm6S"
      },
      "outputs": [],
      "source": []
    },
    {
      "cell_type": "code",
      "execution_count": null,
      "metadata": {
        "colab": {
          "base_uri": "https://localhost:8080/"
        },
        "id": "essf0sZrGtH2",
        "outputId": "66e8e128-89c3-474f-d32e-25aab3005821"
      },
      "outputs": [],
      "source": []
    },
    {
      "cell_type": "code",
      "execution_count": null,
      "metadata": {
        "id": "lRFxsk0z9vhq"
      },
      "outputs": [],
      "source": [
        "m = ['cnn','ecnn']\n",
        "for i in m:\n",
        "    path = 'sqlite:///study/'+ i\n",
        "    for sb_n in range(1,10):\n",
        "        temp_path = path + '/sb' +str(sb_n) + '/temp.db'    \n",
        "        loaded_study = optuna.load_study(study_name=\"STUDY\", storage=temp_path)\n",
        "        temp_i = optuna.importance.get_param_importances(loaded_study)\n",
        "        temp_best_trial = loaded_study.best_trial\n",
        "        if i == 'cnn':\n",
        "            for key, value in temp_best_trial.params.items():\n",
        "                h_cnn_i[key].append(temp_i[key])\n",
        "                best_h_cnn[key].append(value)\n",
        "        else:\n",
        "            for key, value in temp_best_trial.params.items():\n",
        "                h_ecnn_i[key].append(temp_i[key])\n",
        "                best_h_ecnn[key].append(value)"
      ]
    },
    {
      "cell_type": "code",
      "execution_count": null,
      "metadata": {
        "colab": {
          "base_uri": "https://localhost:8080/"
        },
        "id": "S4CybSTfcnG6",
        "outputId": "5495c0ae-9d8f-429c-bb01-11b24be27eb1"
      },
      "outputs": [],
      "source": [
        "best_h_cnn"
      ]
    },
    {
      "cell_type": "code",
      "execution_count": null,
      "metadata": {
        "colab": {
          "base_uri": "https://localhost:8080/"
        },
        "id": "amL3m0QgSrQc",
        "outputId": "fa23c53e-5ceb-4074-cfb2-980a896650d6"
      },
      "outputs": [],
      "source": [
        "###  Calculate Vacuity and dissonance \n",
        "\n",
        "def Bal(a,b):\n",
        "    if a*b !=0:\n",
        "        output = 1-abs(a-b)/(a+b)\n",
        "    else:\n",
        "        output = 0\n",
        "    return output        \n",
        "\n",
        "#evidence = np.array([99]*12)\n",
        "evidence = np.array([4,9,0])\n",
        "alpha = evidence + 1\n",
        "prob_SL = alpha / np.sum(alpha)\n",
        "class_num = len(evidence)\n",
        "total_evidence = np.sum(alpha)\n",
        "\n",
        "u_va = class_num / total_evidence\n",
        "\n",
        "print('The vacuity is: %.2f' %(u_va))\n",
        "\n",
        "belief = evidence/total_evidence\n",
        "belief = belief.tolist()\n",
        "u_dis = 0.0\n",
        "for index_k,k in enumerate(belief):\n",
        "    temp0 = 0.0\n",
        "    temp1 = 0.0\n",
        "    for index_j,j in enumerate(belief):\n",
        "        if index_j!=index_k:\n",
        "            temp0 += j*Bal(k,j)\n",
        "            temp1 += j\n",
        "    if temp1!=0:\n",
        "        u_dis += k*temp0/temp1\n",
        "print('The dissonance is: %.2f' %(u_dis))"
      ]
    },
    {
      "cell_type": "code",
      "execution_count": null,
      "metadata": {
        "colab": {
          "base_uri": "https://localhost:8080/"
        },
        "id": "6IneNE9R9tGD",
        "outputId": "1735d2b5-259d-4aeb-dc52-5de0bb2233e1"
      },
      "outputs": [],
      "source": [
        "import torch\n",
        "#alpha = torch.ones([1, 12], dtype=torch.float32)\n",
        "belief = torch.tensor([[0.3,0.3,0.0],[0.1,0.1,0.1]], dtype=torch.float32,requires_grad=True)\n",
        "k_class = 3\n",
        "\n",
        "'''\n",
        "def Bal(a,b,batch_n):\n",
        "    output = torch.where(a*b>0,1.0-torch.abs(a-b)/(a+b),0)\n",
        "    if a*b !=0:\n",
        "        output = 1.0-torch.abs(a-b)/(a+b)\n",
        "    else:\n",
        "        output = torch.Tensor.zeros(batch_n,1)\n",
        "    return output\n",
        "'''\n",
        "\n",
        "batch_n = belief.size()[0]\n",
        "u_dis = torch.zeros(batch_n,1)\n",
        "for index_k in range(k_class):\n",
        "    temp0 = torch.zeros(batch_n,1)\n",
        "    temp1 = torch.zeros(batch_n,1)\n",
        "    for index_j in range(k_class):\n",
        "        if index_j!=index_k:\n",
        "            k = belief[:,index_k].reshape(batch_n ,1)\n",
        "            j = belief[:,index_j].reshape(batch_n ,1)\n",
        "            temp0 += j*(1.0-torch.abs(k-j)/(k+j+1e-8))\n",
        "            #torch.where(k*j>0.0,1.0-torch.abs(k-j)/(k+j),torch.zeros(batch_n,1))\n",
        "            temp1 += j\n",
        "    u_dis += k*temp0/(temp1+1e-8)\n",
        "\n",
        "u_dis.sum().backward()\n",
        "print(belief.grad.data)"
      ]
    },
    {
      "cell_type": "code",
      "execution_count": null,
      "metadata": {
        "colab": {
          "base_uri": "https://localhost:8080/"
        },
        "id": "sw-jy4FdESyv",
        "outputId": "8d2259bd-693e-4aa7-ed18-efb9d4763be8"
      },
      "outputs": [],
      "source": [
        "import numpy as np\n",
        "a = np.array([[1.0],[2.0],[3.0]])\n",
        "b = np.array([[2.0],[1.0],[10.0]])\n",
        "c = np.concatenate((a,b),axis=1)\n",
        "print(np.shape(a))\n",
        "d = np.max(c,axis=1,keepdims=True)\n",
        "print(np.shape(d))\n",
        "print(d)"
      ]
    },
    {
      "cell_type": "code",
      "execution_count": null,
      "metadata": {
        "colab": {
          "base_uri": "https://localhost:8080/"
        },
        "id": "CM2AHjq36bkw",
        "outputId": "29613d98-11a3-4c0c-8841-50208d177b80"
      },
      "outputs": [],
      "source": [
        "import torch\n",
        "x_data = [1.0, 2.0, 3.0]\n",
        "y_data = [2.0, 4.0, 6.0]\n",
        " \n",
        "w = torch.Tensor([1.0]) # w的初值为1.0\n",
        "w.requires_grad = True # 需要计算梯度\n",
        "\n",
        "\n",
        "#print(w.grad.data.type())\n",
        "\n",
        "\n",
        "\n",
        "def forward(x):\n",
        "    return x*w  # w是一个Tensor\n",
        " \n",
        " \n",
        "def loss(x, y):\n",
        "    y_pred = forward(x)\n",
        "    return (y_pred - y)**2\n",
        " \n",
        "print(\"predict (before training)\", 4, forward(4).item())\n",
        " \n",
        "for epoch in range(10):\n",
        "    for x, y in zip(x_data, y_data):\n",
        "        l =loss(x,y) # l是一个张量，tensor主要是在建立计算图 forward, compute the loss\n",
        "        l.backward() #  backward,compute grad for Tensor whose requires_grad set to True\n",
        "\n",
        "        print(w.data.type())\n",
        "        print(w.grad.data.type())\n",
        "        break\n",
        "        print('\\tgrad:', x, y, w.grad.item())\n",
        "        w.data = w.data - 0.01 * w.grad.data   # 权重更新时，需要用到标量，注意grad也是一个tensor\n",
        " \n",
        "        w.grad.data.zero_() # after update, remember set the grad to zero\n",
        " \n",
        "    print('progress:', epoch, l.item()) # 取出loss使用l.item，不要直接使用l（l是tensor会构建计算图）\n",
        " \n",
        "print(\"predict (after training)\", 4, forward(4).item())\n"
      ]
    },
    {
      "cell_type": "code",
      "execution_count": null,
      "metadata": {
        "colab": {
          "base_uri": "https://localhost:8080/"
        },
        "id": "HElo7ysrPx2B",
        "outputId": "e35d615e-becf-4338-c55c-891bd340c820"
      },
      "outputs": [],
      "source": [
        "evidence = np.array([19]*12)\n",
        "print(evidence)"
      ]
    },
    {
      "cell_type": "code",
      "execution_count": null,
      "metadata": {
        "id": "K6saVw18emyO"
      },
      "outputs": [],
      "source": [
        "### Loss function\n",
        "def loss_cal(para):\n",
        "    y_label = np.array([1,0,0,0,0,0,0,0,0,0,0,0])\n",
        "    \n",
        "    # parameters: alphas\n",
        "    S = np.sum(para)\n",
        "    pred = para/S\n",
        "    pred_err = np.sum(np.square(pred-y_label))\n",
        "\n",
        "    pred_var = np.sum(pred*(1-pred)/(S+1))\n",
        "    #pred_var = np.sum(pred*(1-pred))\n",
        "    return pred_err,pred_var\n"
      ]
    },
    {
      "cell_type": "code",
      "execution_count": null,
      "metadata": {
        "id": "0epVWITNvdM7"
      },
      "outputs": [],
      "source": [
        "def kl_divergence(para,n_class=3):\n",
        "    beta = np.ones()\n"
      ]
    },
    {
      "cell_type": "code",
      "execution_count": null,
      "metadata": {
        "colab": {
          "base_uri": "https://localhost:8080/"
        },
        "id": "sPsW7dAUf0D-",
        "outputId": "1a3dca45-f736-4494-9e99-ec506631e595"
      },
      "outputs": [],
      "source": [
        "alphas = np.array([10,12,10,10,10,10,10,10,10,10,10,10])\n",
        "pred_err,pred_var = loss_cal(alphas)\n",
        "print(pred_err,pred_var,pred_err+pred_var)"
      ]
    },
    {
      "cell_type": "code",
      "execution_count": null,
      "metadata": {
        "colab": {
          "base_uri": "https://localhost:8080/"
        },
        "id": "TfzpqLR7grAT",
        "outputId": "f00095a4-e4ae-4ef9-ae9f-8476a5ef1bc0"
      },
      "outputs": [],
      "source": [
        "prob = np.array([0,0.5,0])\n",
        "print(mse_loss(prob))\n",
        "prob = np.array([0,0.4,0.3])\n",
        "print(mse_loss(prob))"
      ]
    },
    {
      "cell_type": "code",
      "execution_count": null,
      "metadata": {
        "colab": {
          "base_uri": "https://localhost:8080/"
        },
        "id": "84t6pqoyVro8",
        "outputId": "40ec5b89-59f7-4f8b-f457-7d5416b30121"
      },
      "outputs": [],
      "source": [
        "alphas = np.array([1,10,8])\n",
        "alphas = (alphas-1)*(1-np.array([1,0,0]))+1\n",
        "print(alphas)\n",
        "beta = np.ones(3)\n",
        "#beta = np.array([8,8,8])\n",
        "S_alpha = np.sum(alphas)\n",
        "print(S_alpha)\n",
        "S_beta = np.sum(beta)\n",
        "print(S_beta)\n",
        "lnB = sc.gammaln(S_alpha) - np.sum(sc.gammaln(alphas))\n",
        "print(lnB)\n",
        "lnB_uni = np.sum(sc.gammaln(beta)) - sc.gammaln(S_beta)\n",
        "print(lnB_uni)\n",
        "dg0 = sc.digamma(S_alpha)\n",
        "dg1 = sc.digamma(alphas)\n",
        "kl = np.sum((alphas-beta)*(dg1-dg0))+lnB+lnB_uni\n",
        "print(kl)"
      ]
    },
    {
      "cell_type": "code",
      "execution_count": null,
      "metadata": {
        "colab": {
          "base_uri": "https://localhost:8080/"
        },
        "id": "1tjiyG4l0Zm-",
        "outputId": "c507a773-6709-469c-a7f8-2199f839cd43"
      },
      "outputs": [],
      "source": [
        "y = np.array([1,0,0])\n",
        "kl_alpha = (alphas - 1) * (1 - y) + 1\n",
        "print(kl_alpha)"
      ]
    },
    {
      "cell_type": "code",
      "execution_count": null,
      "metadata": {
        "colab": {
          "base_uri": "https://localhost:8080/"
        },
        "id": "1oYcsz3-y_Uv",
        "outputId": "156a9b28-0552-4532-c915-6fbaad1a150f"
      },
      "outputs": [],
      "source": [
        "import torch\n",
        "#alpha = torch.ones([1, 12], dtype=torch.float32)\n",
        "alpha = torch.tensor([[1,20,1,1,18,1,1,18,1,1,1,1]], dtype=torch.float32)\n",
        "beta = torch.ones([1, 12], dtype=torch.float32)\n",
        "S_alpha = torch.sum(alpha, dim=1, keepdim=True)\n",
        "print(S_alpha)\n",
        "S_beta = torch.sum(beta, dim=1, keepdim=True)\n",
        "print(S_beta)\n",
        "lnB = torch.lgamma(S_alpha) - \\\n",
        "    torch.sum(torch.lgamma(alpha), dim=1, keepdim=True)\n",
        "print(lnB)\n",
        "lnB_uni = torch.sum(torch.lgamma(beta), dim=1,\n",
        "                    keepdim=True) - torch.lgamma(S_beta)\n",
        "print(lnB_uni)\n",
        "dg0 = torch.digamma(S_alpha)\n",
        "dg1 = torch.digamma(alpha)\n",
        "\n",
        "kl = torch.sum((alpha - beta) * (dg1 - dg0), dim=1,\n",
        "                keepdim=True) + lnB + lnB_uni\n",
        "\n",
        "print(kl)"
      ]
    },
    {
      "cell_type": "code",
      "execution_count": null,
      "metadata": {
        "id": "AZtH_l4NnTW4"
      },
      "outputs": [],
      "source": [
        "y = torch.tensor([[1,0,0,0,0,0,0,0,0,0,0,0]], dtype=torch.float32)\n",
        "#print(1-torch.sum(alpha*y,dim=1,keepdim=True)/torch.sum(alpha, dim=1, keepdim=True))"
      ]
    },
    {
      "cell_type": "code",
      "execution_count": null,
      "metadata": {
        "colab": {
          "base_uri": "https://localhost:8080/",
          "height": 184
        },
        "id": "IVFxqAT5vukC",
        "outputId": "580f9f2d-eecc-46e2-f64c-8a885a388b37"
      },
      "outputs": [],
      "source": [
        "y2 = torch.tensor([[2,3,0,0,0,0,0,0,0,0,0,0]], dtype=torch.float32)\n",
        "#print(torch.dot(y2,y))"
      ]
    },
    {
      "cell_type": "code",
      "execution_count": null,
      "metadata": {
        "colab": {
          "base_uri": "https://localhost:8080/"
        },
        "id": "6IjpBH4ZwN0m",
        "outputId": "fb035918-c4d0-4e5b-9a0f-e23f08d026db"
      },
      "outputs": [],
      "source": [
        "y3 = torch.tensor([[2],[3],[4]])\n",
        "print(y2.reshape(3,4)/y3)"
      ]
    },
    {
      "cell_type": "code",
      "execution_count": null,
      "metadata": {
        "colab": {
          "base_uri": "https://localhost:8080/"
        },
        "id": "TM9DCUVEuPI6",
        "outputId": "e737ce19-cc2e-4333-f37e-9cd26734d8ed"
      },
      "outputs": [],
      "source": [
        "value = 5\n",
        "temp = y[y!=torch.max(y)]\n",
        "print(temp)"
      ]
    },
    {
      "cell_type": "code",
      "execution_count": null,
      "metadata": {
        "colab": {
          "base_uri": "https://localhost:8080/"
        },
        "id": "ZJfj7eGWgPiP",
        "outputId": "d2ce5b3d-f4fa-40cb-8cc7-214c97e71c53"
      },
      "outputs": [],
      "source": [
        "a = [1,2,3]\n",
        "a[0],a[1],a[2] = a[2],a[1],a[0]\n",
        "print(a)\n"
      ]
    },
    {
      "cell_type": "code",
      "execution_count": null,
      "metadata": {
        "colab": {
          "base_uri": "https://localhost:8080/",
          "height": 489
        },
        "id": "RWt3zrocqswV",
        "outputId": "5b077580-83a2-4eff-b921-510dcaec360d"
      },
      "outputs": [],
      "source": [
        "import torch\n",
        "import matplotlib.pyplot as   \n",
        "a = torch.linspace(0, 1, 10, requires_grad=True)\n",
        "b = torch.tensor([0.5], requires_grad=True)\n",
        "loss = torch.abs(a-b)/(a+b+1e-8)\n",
        "loss.backward() \n",
        "plt.plot(a.detach().numpy(), a.grad.detach().numpy(), label='grad')\n",
        "plt.legend()"
      ]
    },
    {
      "cell_type": "code",
      "execution_count": null,
      "metadata": {
        "colab": {
          "base_uri": "https://localhost:8080/"
        },
        "id": "89Jkiu2ngT0i",
        "outputId": "c06a99d0-6fdb-46bc-bd9c-b08d207323e7"
      },
      "outputs": [],
      "source": [
        "import torch\n",
        "a = torch.tensor([0.3],requires_grad=True)\n",
        "b = torch.tensor([0.2],requires_grad=True)\n",
        "#loss = torch.where(a*b>0,torch.abs(a-b)/(a+b+1e-8), torch.abs(a-b)/(a+b+1e-8))\n",
        "#loss = torch.where(a*b>0,torch.abs(a-b)/(a+b+1e-8), torch.zeros(1,1))\n",
        "loss = 1-torch.abs(a-b)/(a+b+1e-8)\n",
        "#loss = torch.where(torch.abs(a-b)<=1e-3, 0.5*(a-b)**2/(a+b+1e-8), (1e-3*torch.abs(a-b)-0.5*1e-3**2)/(a+b+1e-8))\n",
        "loss.backward()\n",
        "print(a.grad.data)"
      ]
    },
    {
      "cell_type": "code",
      "execution_count": null,
      "metadata": {
        "colab": {
          "base_uri": "https://localhost:8080/"
        },
        "id": "8pCzX9Xt3dde",
        "outputId": "216ffc52-1e5a-4a11-d36d-0363647876e4"
      },
      "outputs": [],
      "source": [
        "a = torch.tensor([[10.,2.0,3.0]],requires_grad=True)\n",
        "b = torch.sum(a,dim=1, keepdim=True)\n",
        "loss = torch.log(b)\n",
        "loss.backward()\n",
        "print(a.grad.data)"
      ]
    },
    {
      "cell_type": "code",
      "execution_count": null,
      "metadata": {
        "colab": {
          "base_uri": "https://localhost:8080/"
        },
        "id": "IidNgRkr5jdP",
        "outputId": "72f0eb27-8fa8-4d8c-b42d-4518c3bf0bad"
      },
      "outputs": [],
      "source": [
        "a = torch.tensor([0.4],requires_grad=True)\n",
        "loss = (a-0.5)/(a+0.5)\n",
        "loss.backward()\n",
        "print(a.grad.data)"
      ]
    },
    {
      "cell_type": "code",
      "execution_count": null,
      "metadata": {
        "colab": {
          "base_uri": "https://localhost:8080/"
        },
        "id": "XbVMxpXcAQr7",
        "outputId": "89c5d4eb-f8e2-4e42-b564-54d39da51df4"
      },
      "outputs": [],
      "source": [
        "index = y>0\n",
        "y2 = torch.tensor([[2,0.5,0,0,0,0,0,0,0,0,0,0]])\n",
        "print(index*y+y2*(~index))"
      ]
    },
    {
      "cell_type": "code",
      "execution_count": null,
      "metadata": {
        "colab": {
          "base_uri": "https://localhost:8080/",
          "height": 105
        },
        "id": "SE1vCDJ0oayL",
        "outputId": "f0799a40-70be-457b-dd63-9fef36cb550c"
      },
      "outputs": [],
      "source": [
        "outputs = torch.tensor([[1,0.9,0.8,0.7,0.6,0.5,0.4,0.3,0.2,0.1,0,0],[1,0.9,0.8,0.7,0.6,5.5,0.4,0.3,0.2,0.1,0,0]], dtype=torch.float32)\n",
        "print(outputs.size())\n",
        "_, preds = torch.max(outputs, 1)\n",
        "print(preds)\n",
        "\n",
        "print(torch.eq(preds, preds))\n",
        "\n",
        "mean = torch\n",
        "var =  torch.tensor([[0.1,0.3]], dtype=torch.float32)\n",
        "index = var > 0.5\n",
        "print(index)\n",
        "index = mean + var > 0.5\n",
        "print(index)\n",
        "print(mean + var)\n",
        "_, preds = torch.max(outputs, 1)"
      ]
    },
    {
      "cell_type": "code",
      "execution_count": null,
      "metadata": {
        "id": "F1kVmdFoAjrS"
      },
      "outputs": [],
      "source": [
        "y = torch.tensor([[1,0,0],[1,0,0],[1,0,0]], dtype=torch.float32)"
      ]
    },
    {
      "cell_type": "code",
      "execution_count": null,
      "metadata": {
        "id": "woXLvNfiBfwM"
      },
      "outputs": [],
      "source": [
        "def get_device():\n",
        "    use_cuda = torch.cuda.is_available()\n",
        "    device = torch.device(\"cuda:0\" if use_cuda else \"cpu\")\n",
        "    return device\n",
        "\n",
        "def loglikelihood_loss(y, alpha, device=None):\n",
        "    if not device:\n",
        "        device = get_device()\n",
        "    y = y.to(device)\n",
        "    alpha = alpha.to(device)\n",
        "    S = torch.sum(alpha, dim=1, keepdim=True)\n",
        "    loglikelihood_err = torch.sum(\n",
        "        (y - (alpha / S)) ** 2, dim=1, keepdim=True)\n",
        "    loglikelihood_var = torch.sum(\n",
        "        alpha * (S - alpha) / (S * S * (S + 1)), dim=1, keepdim=True)\n",
        "    #loglikelihood = loglikelihood_err + loglikelihood_var\n",
        "    return loglikelihood_err,loglikelihood_var\n",
        "\n",
        "def kl_divergence(alpha, num_classes, device=None):\n",
        "    if not device:\n",
        "        device = get_device()\n",
        "    beta = torch.ones([1, num_classes], dtype=torch.float32, device=device)\n",
        "    S_alpha = torch.sum(alpha, dim=1, keepdim=True)\n",
        "    S_beta = torch.sum(beta, dim=1, keepdim=True)\n",
        "    lnB = torch.lgamma(S_alpha) - \\\n",
        "        torch.sum(torch.lgamma(alpha), dim=1, keepdim=True)\n",
        "    lnB_uni = torch.sum(torch.lgamma(beta), dim=1,\n",
        "                        keepdim=True) - torch.lgamma(S_beta)\n",
        "\n",
        "    dg0 = torch.digamma(S_alpha)\n",
        "    dg1 = torch.digamma(alpha)\n",
        "\n",
        "    kl = torch.sum((alpha - beta) * (dg1 - dg0), dim=1,\n",
        "                   keepdim=True) + lnB + lnB_uni\n",
        "    return kl"
      ]
    },
    {
      "cell_type": "code",
      "execution_count": null,
      "metadata": {
        "colab": {
          "base_uri": "https://localhost:8080/"
        },
        "id": "vkXDWFpEAwYp",
        "outputId": "20f567c5-0d64-415d-d50a-e7283a6be3a0"
      },
      "outputs": [],
      "source": [
        "import torch.nn.functional as F\n",
        "y = torch.tensor([[1,0,-1],[0,1,0],[0,0,1]]*3, dtype=torch.float32)\n",
        "print(F.softmax(y,dim=1))\n"
      ]
    },
    {
      "cell_type": "code",
      "execution_count": null,
      "metadata": {
        "colab": {
          "base_uri": "https://localhost:8080/"
        },
        "id": "IqOWB94hkEV5",
        "outputId": "3a8c5572-5f82-4937-8526-3f7ed437c21b"
      },
      "outputs": [],
      "source": [
        "y2 = torch.tensor([1,2,3,4,5,6,7,8,9]).reshape(9,1)\n",
        "print(y*y2)\n"
      ]
    },
    {
      "cell_type": "code",
      "execution_count": null,
      "metadata": {
        "id": "a2mltul3BgTu"
      },
      "outputs": [],
      "source": [
        "temp = [[3,1,1], # ideal\n",
        "        [1,2,1], # ideal\n",
        "        [1,1,3], # ideal\n",
        "        [10,8,1], # practial\n",
        "        [8,10,1], # practical \n",
        "        [1,2,3], # practical\n",
        "        [1,4,1], # wrong \n",
        "        [3,1,1], # wrong \n",
        "        [1,2,1]  # wrong \n",
        "        ]\n"
      ]
    },
    {
      "cell_type": "code",
      "execution_count": null,
      "metadata": {
        "colab": {
          "base_uri": "https://localhost:8080/",
          "height": 358
        },
        "id": "kZp2upKPEI9B",
        "outputId": "89ef4b7e-6955-416d-9db8-905462f6fdd0"
      },
      "outputs": [],
      "source": [
        "alpha = torch.tensor(temp, dtype=torch.float32)\n",
        "#A_err,A_var = loglikelihood_loss(y, alpha)\n",
        "kl_alpha = (alpha - 1) * (1 - y) + 1\n",
        "kl_div = kl_divergence(kl_alpha, 3)\n",
        "#loss = torch.mean(A+kl_div)\n"
      ]
    },
    {
      "cell_type": "code",
      "execution_count": null,
      "metadata": {
        "colab": {
          "base_uri": "https://localhost:8080/"
        },
        "id": "hyj1VYgsE0d0",
        "outputId": "ceaa1952-5461-49de-c22d-b9bf315fe83b"
      },
      "outputs": [],
      "source": [
        "print(A_err)\n",
        "print(kl_div)\n",
        "print(kl_div+A_err)\n",
        "print(torch.mean(A_err+kl_div))"
      ]
    },
    {
      "cell_type": "code",
      "execution_count": null,
      "metadata": {
        "colab": {
          "base_uri": "https://localhost:8080/"
        },
        "id": "iukn8zjtFYVR",
        "outputId": "4646f165-560c-4bac-a206-677402f4a638"
      },
      "outputs": [],
      "source": [
        "y = torch.tensor([[1.0,2.0],[2.0,0.5],[0.2,3]], dtype=torch.float32)\n",
        "label = torch.tensor([1,0,0])\n",
        "_,p = torch.max(y,1)\n",
        "print(torch.where(label==p,1,-1))"
      ]
    },
    {
      "cell_type": "code",
      "execution_count": null,
      "metadata": {
        "colab": {
          "base_uri": "https://localhost:8080/"
        },
        "id": "q7i_OM9LWSuc",
        "outputId": "38df0575-b9f0-4f5f-c08e-e6e5bf54ff45"
      },
      "outputs": [],
      "source": [
        "y[:,-1].reshape(3,1).size()\n",
        "#print(a)"
      ]
    },
    {
      "cell_type": "code",
      "execution_count": null,
      "metadata": {
        "colab": {
          "base_uri": "https://localhost:8080/"
        },
        "id": "_4iy64yAZQBM",
        "outputId": "1eb402a5-c123-4cdc-97c2-c6ab07a30d18"
      },
      "outputs": [],
      "source": [
        "y[:,:-1]"
      ]
    }
  ],
  "metadata": {
    "colab": {
      "authorship_tag": "ABX9TyNU0jmQZlDk2OxkY9YcUYw9",
      "include_colab_link": true,
      "mount_file_id": "1EeBfbjr985bvmiTmrtj8L2nbU1cggM8e",
      "name": "Demo.ipynb",
      "provenance": []
    },
    "interpreter": {
      "hash": "2fcbc60978124f5272a06ce14177a7a9447ca4e56dd106f6cabbe8ad96173f6d"
    },
    "kernelspec": {
      "display_name": "Python 3.7.1 64-bit ('py3': conda)",
      "name": "python3"
    },
    "language_info": {
      "codemirror_mode": {
        "name": "ipython",
        "version": 3
      },
      "file_extension": ".py",
      "mimetype": "text/x-python",
      "name": "python",
      "nbconvert_exporter": "python",
      "pygments_lexer": "ipython3",
      "version": "3.7.1"
    }
  },
  "nbformat": 4,
  "nbformat_minor": 0
}
